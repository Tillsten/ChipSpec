{
 "cells": [
  {
   "cell_type": "code",
   "execution_count": null,
   "metadata": {},
   "outputs": [
    {
     "ename": "",
     "evalue": "",
     "output_type": "error",
     "traceback": [
      "\u001b[1;31mFailed to start the Kernel. \n",
      "Canceled. \n",
      "View Jupyter <a href='command:jupyter.viewOutput'>log</a> for further details."
     ]
    }
   ],
   "source": [
    "import attr\n",
    "import numpy as np\n",
    "from matplotlib import pyplot as plt\n",
    "\n",
    "dimension = tuple[float, float]\n",
    "\n",
    "@attr.dataclass\n",
    "class Chip:\n",
    "    grid: np.ndarray = attr.field()\n",
    "    chip_size: dimension = 28.0, 28.0\n",
    "    chip_shape: tuple = (9, 9)\n",
    "    chip_spacing: dimension = 1.0, 1.0\n",
    "    feature_grid_shape: tuple = (12, 12)\n",
    "    feautre_grid_size: dimension = 1.5, 1.5\n",
    "    feature_size: dimension = 0.11, 0.11\n",
    "    feature_spacing: dimension = 0.015, 0.015\n",
    "\n",
    "    @grid.default\n",
    "    def _grid(self):\n",
    "        return np.zeros((*self.chip_shape, *self.feature_grid_shape))\n",
    "\n",
    "    def get_feature_position(self, xg, yg, x, y) -> dimension:\n",
    "        return self.grid[xg, yg, x, y]\n",
    "\n",
    "\n",
    "\n",
    "def draw_chip(chip: Chip):\n",
    "    fig, ax = plt.subplots(subplot_kw=dict(aspect='equal'), figsize=(10, 10))\n",
    "    ax.set_xlim(0, chip.chip_size[0])\n",
    "    ax.set_ylim(0, chip.chip_size[1])\n",
    "\n",
    "    for xg, yg in np.ndindex(chip.chip_shape):\n",
    "        for x, y in np.ndindex(chip.feature_grid_shape):\n",
    "            x_pos, y_pos = chip.get_feature_position(xg, yg, x, y)\n",
    "            ax.add_patch(plt.Rectangle(\n",
    "                (x_pos, y_pos),\n",
    "                *chip.feature_size,\n",
    "                color='black',\n",
    "                alpha=0.5\n",
    "            ))\n",
    "\n",
    "if __name__ == '__main__':\n",
    "    chip = Chip()\n",
    "    draw_chip(chip)\n",
    "    plt.show()\n",
    "\n"
   ]
  },
  {
   "cell_type": "code",
   "execution_count": null,
   "metadata": {},
   "outputs": [],
   "source": []
  }
 ],
 "metadata": {
  "interpreter": {
   "hash": "be3351d2efbe6542fbac3d802fbed561df46fa5d741829a62cfa50f4c34ba83f"
  },
  "kernelspec": {
   "display_name": "Python 3.9.7 ('base')",
   "language": "python",
   "name": "python3"
  },
  "language_info": {
   "name": "python",
   "version": "3.9.7"
  },
  "orig_nbformat": 4
 },
 "nbformat": 4,
 "nbformat_minor": 2
}
